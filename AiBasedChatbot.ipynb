{
 "cells": [
  {
   "cell_type": "code",
   "execution_count": 1,
   "id": "78c2ff26",
   "metadata": {},
   "outputs": [],
   "source": [
    "# Required Libraries\n",
    "import pandas as pd\n",
    "from sklearn.feature_extraction.text import TfidfVectorizer\n",
    "from sklearn.ensemble import RandomForestClassifier\n",
    "from sklearn.pipeline import Pipeline\n",
    "from sklearn.preprocessing import LabelEncoder\n",
    "from sklearn.model_selection import train_test_split"
   ]
  },
  {
   "cell_type": "code",
   "execution_count": 2,
   "id": "4ed51590",
   "metadata": {},
   "outputs": [],
   "source": [
    "# Load data\n",
    "dataset = pd.read_csv('dataset.csv')\n",
    "symptom_desc = pd.read_csv('symptom_Description.csv')"
   ]
  },
  {
   "cell_type": "code",
   "execution_count": 3,
   "id": "07005511",
   "metadata": {},
   "outputs": [],
   "source": [
    "df = dataset[['Disease', 'Symptom_1']].copy()"
   ]
  },
  {
   "cell_type": "code",
   "execution_count": 4,
   "id": "14db4967",
   "metadata": {},
   "outputs": [],
   "source": [
    "# Preprocessing: Fill null values if any\n",
    "df = df.fillna(\"\")"
   ]
  },
  {
   "cell_type": "code",
   "execution_count": 5,
   "id": "88c763a8",
   "metadata": {},
   "outputs": [],
   "source": [
    "# Split data into train and test sets\n",
    "X_train, X_test, y_train, y_test = train_test_split(df['Symptom_1'], df['Disease'], test_size=0.2, random_state=42)"
   ]
  },
  {
   "cell_type": "code",
   "execution_count": 6,
   "id": "b74977b2",
   "metadata": {},
   "outputs": [],
   "source": [
    "# Label Encoding for categorical target variable\n",
    "le = LabelEncoder()\n",
    "y_train = le.fit_transform(y_train)\n",
    "y_test = le.transform(y_test)"
   ]
  },
  {
   "cell_type": "code",
   "execution_count": 7,
   "id": "25d37cad",
   "metadata": {
    "scrolled": true
   },
   "outputs": [
    {
     "name": "stdout",
     "output_type": "stream",
     "text": [
      "Train accuracy: 0.38109756097560976\n",
      "Test accuracy: 0.36585365853658536\n"
     ]
    }
   ],
   "source": [
    "# Model Building\n",
    "model = Pipeline([\n",
    "    ('tfidf', TfidfVectorizer()),\n",
    "    ('clf', RandomForestClassifier()),\n",
    "])\n",
    "\n",
    "# Train the model\n",
    "model.fit(X_train, y_train)\n",
    "\n",
    "# Evaluate the model\n",
    "print(\"Train accuracy:\", model.score(X_train, y_train))\n",
    "print(\"Test accuracy:\", model.score(X_test, y_test))"
   ]
  },
  {
   "cell_type": "code",
   "execution_count": 8,
   "id": "cd682a95",
   "metadata": {},
   "outputs": [],
   "source": [
    "from flask import Flask, request, render_template\n",
    "import openai\n",
    "\n",
    "app = Flask(__name__)\n",
    "\n",
    "# Set up OpenAI API configuration\n",
    #You should write your own openai api key
   ]
  },
  {
   "cell_type": "code",
   "execution_count": null,
   "id": "a76304d9",
   "metadata": {},
   "outputs": [
    {
     "name": "stdout",
     "output_type": "stream",
     "text": [
      " * Serving Flask app \"__main__\" (lazy loading)\n",
      " * Environment: production\n",
      "\u001b[31m   WARNING: This is a development server. Do not use it in a production deployment.\u001b[0m\n",
      "\u001b[2m   Use a production WSGI server instead.\u001b[0m\n",
      " * Debug mode: off\n"
     ]
    },
    {
     "name": "stderr",
     "output_type": "stream",
     "text": [
      " * Running on http://127.0.0.1:5000/ (Press CTRL+C to quit)\n",
      "127.0.0.1 - - [09/Jun/2023 10:55:00] \"GET / HTTP/1.1\" 200 -\n",
      "127.0.0.1 - - [09/Jun/2023 10:56:38] \"POST /chat HTTP/1.1\" 200 -\n",
      "127.0.0.1 - - [09/Jun/2023 10:57:18] \"POST /chat HTTP/1.1\" 200 -\n",
      "127.0.0.1 - - [09/Jun/2023 10:59:50] \"GET / HTTP/1.1\" 200 -\n",
      "127.0.0.1 - - [09/Jun/2023 10:59:57] \"POST /chat HTTP/1.1\" 200 -\n",
      "127.0.0.1 - - [09/Jun/2023 11:00:30] \"POST /chat HTTP/1.1\" 200 -\n"
     ]
    }
   ],
   "source": [
    "def generate_response(input_text):\n",
    "    response = openai.Completion.create(\n",
    "        engine='text-davinci-003',  # Choose the most appropriate engine for your needs\n",
    "        prompt=input_text,\n",
    "        max_tokens=200  # Adjust the response length as desired\n",
    "    )\n",
    "    return response.choices[0].text.strip()\n",
    "\n",
    "# Define the home route\n",
    "@app.route('/')\n",
    "def home():\n",
    "    return render_template(\"index.html\")\n",
    "\n",
    "def chat():\n",
    "    response = \"Hello! I'm your virtual healthcare assistant. What is your complaint? Please write your symptoms with a comma(,) and underscore(_). For example: abdominal_pain, fever, nausea, etc.\"\n",
    "    return {'response': response}\n",
    "\n",
    "@app.route('/chat', methods=['POST'])\n",
    "def chat():\n",
    "    if request.method == 'POST':\n",
    "        user_input = request.form['user_input']\n",
    "        if user_input.lower() == \"quit\":\n",
    "            return {'response': \"Goodbye!\"}\n",
    "\n",
    "        # Check if the user input is a general question\n",
    "        general_questions = [\"what is\", \"how does\", \"can you\", \"tell me about\", \"ı have\",\"ı feel\"]\n",
    "        is_general_question = any(question in user_input.lower() for question in general_questions)\n",
    "\n",
    "        if is_general_question:\n",
    "            # Generate response using OpenAI\n",
    "            response = generate_response(user_input)\n",
    "            return {'response': response}\n",
    "        else:\n",
    "            # Implement your disease prediction logic here\n",
    "            pred = model.predict([user_input])\n",
    "            disease = le.inverse_transform(pred)\n",
    "            return {'response': f\"Based on the symptoms you provided, the predicted disease is: {disease[0]}\"}\n",
    "\n",
    "# Run the Flask app\n",
    "if __name__ == '__main__':\n",
    "    app.run()"
   ]
  },
  {
   "cell_type": "code",
   "execution_count": null,
   "id": "b6d4b75a",
   "metadata": {},
   "outputs": [],
   "source": []
  }
 ],
 "metadata": {
  "kernelspec": {
   "display_name": "Python 3 (ipykernel)",
   "language": "python",
   "name": "python3"
  },
  "language_info": {
   "codemirror_mode": {
    "name": "ipython",
    "version": 3
   },
   "file_extension": ".py",
   "mimetype": "text/x-python",
   "name": "python",
   "nbconvert_exporter": "python",
   "pygments_lexer": "ipython3",
   "version": "3.9.13"
  }
 },
 "nbformat": 4,
 "nbformat_minor": 5
}
